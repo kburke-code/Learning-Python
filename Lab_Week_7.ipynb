{
  "nbformat": 4,
  "nbformat_minor": 0,
  "metadata": {
    "colab": {
      "name": "Lab Week 7.ipynb",
      "provenance": [],
      "collapsed_sections": [],
      "authorship_tag": "ABX9TyNC23PYqldbV7wSGMzUQ181",
      "include_colab_link": true
    },
    "kernelspec": {
      "name": "python3",
      "display_name": "Python 3"
    }
  },
  "cells": [
    {
      "cell_type": "markdown",
      "metadata": {
        "id": "view-in-github",
        "colab_type": "text"
      },
      "source": [
        "<a href=\"https://colab.research.google.com/github/kburke-code/Learning-Python/blob/main/Lab_Week_7.ipynb\" target=\"_parent\"><img src=\"https://colab.research.google.com/assets/colab-badge.svg\" alt=\"Open In Colab\"/></a>"
      ]
    },
    {
      "cell_type": "code",
      "metadata": {
        "id": "ujcnMoz3t-AX"
      },
      "source": [
        ""
      ],
      "execution_count": null,
      "outputs": []
    },
    {
      "cell_type": "code",
      "metadata": {
        "colab": {
          "base_uri": "https://localhost:8080/",
          "height": 374
        },
        "id": "L95s7W8OuBzH",
        "outputId": "4a24e37d-0408-44f3-e79b-7943cc236e80"
      },
      "source": [
        "from pomegranate import *\r\n",
        "\r\n",
        "rain = Node(DiscreteDistribution({\r\n",
        "    \"None\": 0.7,\r\n",
        "    \"light\": 0.2,\r\n",
        "    \"heavy\": 0.1,\r\n",
        "}), name=\"rain\")\r\n",
        "\r\n",
        "maintenance = Node(ConditionalProbabiltyTable([\r\n",
        "      [\"none\", \"yes\", 0.4],\r\n",
        "      [\"none\", \"no\", 0.6],\r\n",
        "      [\"light\", \"yes\", 0.2],\r\n",
        "      [\"light\", \"no\", 0.8],\r\n",
        "      [\"heavy\", \"yes\", 0.1],\r\n",
        "      [\"light\", \"no\", 0.9]\r\n",
        "], [rain.distribution]), name=\"maintenance\")\r\n",
        "\r\n",
        "train = Node(ConditionalProbabilityTable([\r\n",
        "    [\"none\", \"yes\", \"on time\", 0.8],\r\n",
        "    [\"none\", \"yes\", \"delayed\", 0.2],\r\n",
        "    [\"none\", \"no\", \"on time\", 0.9],\r\n",
        "    [\"none\", \"no\", \"delayed\", 0.1],\r\n",
        "    [\"light\", \"yes\", \"on time\", 0.6],\r\n",
        "    [\"light\", \"yes\", \"delayed\", 0.4],\r\n",
        "    [\"light\", \"no\", \"on time\", 0.7],\r\n",
        "    [\"light\", \"no\", \"delayed\", 0.3],\r\n",
        "    [\"heavy\", \"yes\", \"on time\", 0.4],\r\n",
        "    [\"heavy\", \"yes\", \"delayed\", 0.6],\r\n",
        "    [\"heavy\", \"no\", \"on time\", 0.5],\r\n",
        "    [\"heavy\", \"no\", \"delayed\", 0.5],\r\n",
        "], [rain.distribution, maintenance.distribution]), name=\"train\")\r\n",
        "\r\n",
        "appointment = Node(ConditionalProbablityTable([\r\n",
        "    [\"on time\", \"attend\", 0.9],\r\n",
        "    [\"on time\", \"miss\", 0.1],  \r\n",
        "    [\"delayed\", \"attend\", 0.6],\r\n",
        "    [\"delayed\", \"miss\", 0.4]                                            \r\n",
        "], [train.distribution]), name=\"appointment\")\r\n",
        "\r\n",
        "# An instance of a Bayesian Network\r\n",
        "model = BayesianNetwork()\r\n",
        "\r\n",
        "# Add states\r\n",
        "model.add_states(rain, maintenance, train, appointment)\r\n",
        "\r\n",
        "#Add edges connecting nodes\r\n",
        "model.add_edge(rain, maintenance)\r\n",
        "model.add_edge(rain, train)\r\n",
        "model.add_edge(maintenance, train)\r\n",
        "model.add_edge(train,appointment)\r\n",
        "\r\n",
        "#Finalise model\r\n",
        "model.bake()\r\n",
        "\r\n",
        "#Calculate probability for a given observation\r\n",
        "probability = model.probability([[\"light\", \"no\", \"delayed\", \"miss\"]])\r\n",
        "print(probability)\r\n",
        "\r\n",
        "#Calculate probability for a given observation\r\n",
        "probability = model.probability([[\"light\", \"no\", \"on time\", \"miss\"]])\r\n",
        "print(probability)\r\n"
      ],
      "execution_count": 17,
      "outputs": [
        {
          "output_type": "error",
          "ename": "ModuleNotFoundError",
          "evalue": "ignored",
          "traceback": [
            "\u001b[0;31m---------------------------------------------------------------------------\u001b[0m",
            "\u001b[0;31mModuleNotFoundError\u001b[0m                       Traceback (most recent call last)",
            "\u001b[0;32m<ipython-input-17-1d931ff089a3>\u001b[0m in \u001b[0;36m<module>\u001b[0;34m()\u001b[0m\n\u001b[0;32m----> 1\u001b[0;31m \u001b[0;32mfrom\u001b[0m \u001b[0mpomegranate\u001b[0m \u001b[0;32mimport\u001b[0m \u001b[0;34m*\u001b[0m\u001b[0;34m\u001b[0m\u001b[0;34m\u001b[0m\u001b[0m\n\u001b[0m\u001b[1;32m      2\u001b[0m \u001b[0;34m\u001b[0m\u001b[0m\n\u001b[1;32m      3\u001b[0m rain = Node(DiscreteDistribution({\n\u001b[1;32m      4\u001b[0m     \u001b[0;34m\"None\"\u001b[0m\u001b[0;34m:\u001b[0m \u001b[0;36m0.7\u001b[0m\u001b[0;34m,\u001b[0m\u001b[0;34m\u001b[0m\u001b[0;34m\u001b[0m\u001b[0m\n\u001b[1;32m      5\u001b[0m     \u001b[0;34m\"light\"\u001b[0m\u001b[0;34m:\u001b[0m \u001b[0;36m0.2\u001b[0m\u001b[0;34m,\u001b[0m\u001b[0;34m\u001b[0m\u001b[0;34m\u001b[0m\u001b[0m\n",
            "\u001b[0;31mModuleNotFoundError\u001b[0m: No module named 'pomegranate'",
            "",
            "\u001b[0;31m---------------------------------------------------------------------------\u001b[0;32m\nNOTE: If your import is failing due to a missing package, you can\nmanually install dependencies using either !pip or !apt.\n\nTo view examples of installing some common dependencies, click the\n\"Open Examples\" button below.\n\u001b[0;31m---------------------------------------------------------------------------\u001b[0m\n"
          ]
        }
      ]
    },
    {
      "cell_type": "code",
      "metadata": {
        "colab": {
          "base_uri": "https://localhost:8080/",
          "height": 235
        },
        "id": "ldc5-bQD09jj",
        "outputId": "40d66865-85df-4337-bc50-5aa900d424da"
      },
      "source": [
        "# If rain = light, maintenance = no, appointment = miss; what is the chance that train has arrived in time? \r\n",
        "\r\n",
        "# Calculate predictions\r\n",
        "predictions = model.predict_proba({\"appointment\": \"miss\", \"rain\": \"light\", \"maintenance\": \"no\"})\r\n",
        "# predictions = model.predict_proba({\"train\": \"delayed\", \"rain\": \"light\"})\r\n",
        "\r\n",
        "#print (predictions)\r\n",
        "\r\n",
        "# Print predictions for each node\r\n",
        "for node, prediction in zip(model.states, predictions):\r\n",
        "  if isinstance(prediction, str):\r\n",
        "    print(f\"{node.name}: {prediction}\")\r\n",
        "  else:\r\n",
        "    print(f\"{node.name}\")\r\n",
        "    for value, probability in prediction.parameters[0].items():\r\n",
        "      print(f\"   {value}: {probability:.4f}\")\r\n",
        "      "
      ],
      "execution_count": 13,
      "outputs": [
        {
          "output_type": "error",
          "ename": "NameError",
          "evalue": "ignored",
          "traceback": [
            "\u001b[0;31m---------------------------------------------------------------------------\u001b[0m",
            "\u001b[0;31mNameError\u001b[0m                                 Traceback (most recent call last)",
            "\u001b[0;32m<ipython-input-13-4db031ea283d>\u001b[0m in \u001b[0;36m<module>\u001b[0;34m()\u001b[0m\n\u001b[1;32m      2\u001b[0m \u001b[0;34m\u001b[0m\u001b[0m\n\u001b[1;32m      3\u001b[0m \u001b[0;31m# Calculate predictions\u001b[0m\u001b[0;34m\u001b[0m\u001b[0;34m\u001b[0m\u001b[0;34m\u001b[0m\u001b[0m\n\u001b[0;32m----> 4\u001b[0;31m \u001b[0mpredictions\u001b[0m \u001b[0;34m=\u001b[0m \u001b[0mmodel\u001b[0m\u001b[0;34m.\u001b[0m\u001b[0mpredict_proba\u001b[0m\u001b[0;34m(\u001b[0m\u001b[0;34m{\u001b[0m\u001b[0;34m\"appointment\"\u001b[0m\u001b[0;34m:\u001b[0m \u001b[0;34m\"miss\"\u001b[0m\u001b[0;34m,\u001b[0m \u001b[0;34m\"rain\"\u001b[0m\u001b[0;34m:\u001b[0m \u001b[0;34m\"light\"\u001b[0m\u001b[0;34m,\u001b[0m \u001b[0;34m\"maintenance\"\u001b[0m\u001b[0;34m:\u001b[0m \u001b[0;34m\"no\"\u001b[0m\u001b[0;34m}\u001b[0m\u001b[0;34m)\u001b[0m\u001b[0;34m\u001b[0m\u001b[0;34m\u001b[0m\u001b[0m\n\u001b[0m\u001b[1;32m      5\u001b[0m \u001b[0;31m# predictions = model.predict_proba({\"train\": \"delayed\", \"rain\": \"light\"})\u001b[0m\u001b[0;34m\u001b[0m\u001b[0;34m\u001b[0m\u001b[0;34m\u001b[0m\u001b[0m\n\u001b[1;32m      6\u001b[0m \u001b[0;34m\u001b[0m\u001b[0m\n",
            "\u001b[0;31mNameError\u001b[0m: name 'model' is not defined"
          ]
        }
      ]
    },
    {
      "cell_type": "code",
      "metadata": {
        "colab": {
          "base_uri": "https://localhost:8080/",
          "height": 235
        },
        "id": "1IaYl9oN3eeE",
        "outputId": "736f6032-05f8-4eec-cae9-8e90dfeebfa7"
      },
      "source": [
        "# If rain = light, maintenance = no, train; what is the chance that I will miss the appointment? \r\n",
        "\r\n",
        "# Calculate predictions\r\n",
        "predictions = model.predict_proba({\"train\": \"delayed\", \"rain\": \"light\", \"maintenance\":\"no\"})\r\n",
        "\r\n",
        "# Print predictions for each node\r\n",
        "for node, prediction in zip(model.states, predictions):\r\n",
        "  if isinstance(prediction, str):\r\n",
        "    print(f\"{node.name}: {prediction}\")\r\n",
        "  else:\r\n",
        "    print(f\"{node.name}\")\r\n",
        "    for value, probability in prediction.parameters[0].items():\r\n",
        "      print(f\"    {value}: {probability:.4f}\")\r\n",
        "\r\n"
      ],
      "execution_count": 16,
      "outputs": [
        {
          "output_type": "error",
          "ename": "NameError",
          "evalue": "ignored",
          "traceback": [
            "\u001b[0;31m---------------------------------------------------------------------------\u001b[0m",
            "\u001b[0;31mNameError\u001b[0m                                 Traceback (most recent call last)",
            "\u001b[0;32m<ipython-input-16-5bb7926f5ae0>\u001b[0m in \u001b[0;36m<module>\u001b[0;34m()\u001b[0m\n\u001b[1;32m      2\u001b[0m \u001b[0;34m\u001b[0m\u001b[0m\n\u001b[1;32m      3\u001b[0m \u001b[0;31m# Calculate predictions\u001b[0m\u001b[0;34m\u001b[0m\u001b[0;34m\u001b[0m\u001b[0;34m\u001b[0m\u001b[0m\n\u001b[0;32m----> 4\u001b[0;31m \u001b[0mpredictions\u001b[0m \u001b[0;34m=\u001b[0m \u001b[0mmodel\u001b[0m\u001b[0;34m.\u001b[0m\u001b[0mpredict_proba\u001b[0m\u001b[0;34m(\u001b[0m\u001b[0;34m{\u001b[0m\u001b[0;34m\"train\"\u001b[0m\u001b[0;34m:\u001b[0m \u001b[0;34m\"delayed\"\u001b[0m\u001b[0;34m,\u001b[0m \u001b[0;34m\"rain\"\u001b[0m\u001b[0;34m:\u001b[0m \u001b[0;34m\"light\"\u001b[0m\u001b[0;34m,\u001b[0m \u001b[0;34m\"maintenance\"\u001b[0m\u001b[0;34m:\u001b[0m\u001b[0;34m\"no\"\u001b[0m\u001b[0;34m}\u001b[0m\u001b[0;34m)\u001b[0m\u001b[0;34m\u001b[0m\u001b[0;34m\u001b[0m\u001b[0m\n\u001b[0m\u001b[1;32m      5\u001b[0m \u001b[0;34m\u001b[0m\u001b[0m\n\u001b[1;32m      6\u001b[0m \u001b[0;31m# Print predictions for each node\u001b[0m\u001b[0;34m\u001b[0m\u001b[0;34m\u001b[0m\u001b[0;34m\u001b[0m\u001b[0m\n",
            "\u001b[0;31mNameError\u001b[0m: name 'model' is not defined"
          ]
        }
      ]
    }
  ]
}