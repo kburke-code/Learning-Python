{
  "nbformat": 4,
  "nbformat_minor": 0,
  "metadata": {
    "colab": {
      "name": "Lab1_Exercise 5",
      "provenance": [],
      "authorship_tag": "ABX9TyPNRuAwoueX2p29Y/FuveRB",
      "include_colab_link": true
    },
    "kernelspec": {
      "name": "python3",
      "display_name": "Python 3"
    }
  },
  "cells": [
    {
      "cell_type": "markdown",
      "metadata": {
        "id": "view-in-github",
        "colab_type": "text"
      },
      "source": [
        "<a href=\"https://colab.research.google.com/github/kburke-code/Learning-Python/blob/main/Lab1_Exercise_5.ipynb\" target=\"_parent\"><img src=\"https://colab.research.google.com/assets/colab-badge.svg\" alt=\"Open In Colab\"/></a>"
      ]
    },
    {
      "cell_type": "code",
      "metadata": {
        "colab": {
          "base_uri": "https://localhost:8080/"
        },
        "id": "PgGZUrNKxQCS",
        "outputId": "f69b262c-206b-4bd5-d71f-1c8c6d9a7046"
      },
      "source": [
        "#Write a program that will loop over the following list: a = [8,9,10,11,13,81,101,100,94]. If number is prime, print the number. \r\n",
        "\r\n",
        "def check_prime (num):\r\n",
        "\r\n",
        "    if num == 1 or num == 2:\r\n",
        "        return True\r\n",
        "\r\n",
        "    # Iterate from 2 to num / 2\r\n",
        "    for i in range(2, num//2):\r\n",
        "\r\n",
        "        # If nuum is divisible by any number between 2 and n/2, it is not prime\r\n",
        "\r\n",
        "        if (num % i) == 0:\r\n",
        "          return False\r\n",
        "          break\r\n",
        "\r\n",
        "    return True\r\n",
        "\r\n",
        "a = [8,9,10,11,13,81,101,100,94]\r\n",
        "\r\n",
        "for ele in a:\r\n",
        "    print (\"Number\", ele)\r\n",
        "    if check_prime(ele):\r\n",
        "        print(\"prime\")\r\n",
        "    else:\r\n",
        "        print(\"not prime\")"
      ],
      "execution_count": 2,
      "outputs": [
        {
          "output_type": "stream",
          "text": [
            "Number 8\n",
            "not prime\n",
            "Number 9\n",
            "not prime\n",
            "Number 10\n",
            "not prime\n",
            "Number 11\n",
            "prime\n",
            "Number 13\n",
            "prime\n",
            "Number 81\n",
            "not prime\n",
            "Number 101\n",
            "prime\n",
            "Number 100\n",
            "not prime\n",
            "Number 94\n",
            "not prime\n"
          ],
          "name": "stdout"
        }
      ]
    }
  ]
}